{
  "cells": [
    {
      "cell_type": "markdown",
      "metadata": {
        "id": "hxuOHV5C8QAR"
      },
      "source": [
        "imports"
      ]
    },
    {
      "cell_type": "code",
      "execution_count": null,
      "metadata": {
        "colab": {
          "base_uri": "https://localhost:8080/"
        },
        "id": "1OcMt2qRFqMW",
        "outputId": "a7db96d6-6372-42ad-e38e-ab2b5fbcd3fa"
      },
      "outputs": [
        {
          "name": "stdout",
          "output_type": "stream",
          "text": [
            "Collecting ijson\n",
            "  Downloading ijson-3.3.0-cp311-cp311-manylinux_2_17_x86_64.manylinux2014_x86_64.whl.metadata (21 kB)\n",
            "Downloading ijson-3.3.0-cp311-cp311-manylinux_2_17_x86_64.manylinux2014_x86_64.whl (119 kB)\n",
            "\u001b[?25l   \u001b[90m━━━━━━━━━━━━━━━━━━━━━━━━━━━━━━━━━━━━━━━━\u001b[0m \u001b[32m0.0/119.2 kB\u001b[0m \u001b[31m?\u001b[0m eta \u001b[36m-:--:--\u001b[0m\r\u001b[2K   \u001b[90m━━━━━━━━━━━━━━━━━━━━━━━━━━━━━━━━━━━━━━━━\u001b[0m \u001b[32m119.2/119.2 kB\u001b[0m \u001b[31m7.3 MB/s\u001b[0m eta \u001b[36m0:00:00\u001b[0m\n",
            "\u001b[?25hInstalling collected packages: ijson\n",
            "Successfully installed ijson-3.3.0\n"
          ]
        }
      ],
      "source": [
        "!pip install ijson"
      ]
    },
    {
      "cell_type": "code",
      "execution_count": null,
      "metadata": {
        "id": "fZiDpmh_78M8"
      },
      "outputs": [],
      "source": [
        "import numpy as np\n",
        "import tensorflow as tf\n",
        "from tensorflow.keras.models import Sequential\n",
        "from tensorflow.keras.layers import Embedding, LSTM, Dense, Dropout\n",
        "from tensorflow.keras.preprocessing.text import Tokenizer\n",
        "import ijson\n",
        "import matplotlib.pyplot as plt\n",
        "from sklearn.model_selection import train_test_split"
      ]
    },
    {
      "cell_type": "markdown",
      "metadata": {
        "id": "XXE0vnc284pF"
      },
      "source": [
        "data loading"
      ]
    },
    {
      "cell_type": "code",
      "execution_count": null,
      "metadata": {
        "id": "6lF0RFGWICn2"
      },
      "outputs": [],
      "source": [
        "file_path = \"quotes.json\""
      ]
    },
    {
      "cell_type": "code",
      "execution_count": null,
      "metadata": {
        "id": "ONqYCzuOHvnW"
      },
      "outputs": [],
      "source": [
        "def count_quotes(file_path):\n",
        "    with open(file_path, 'r') as f:\n",
        "        return sum(1 for _ in ijson.items(f, 'item'))"
      ]
    },
    {
      "cell_type": "code",
      "execution_count": null,
      "metadata": {
        "id": "vaEwKryR83ZG"
      },
      "outputs": [],
      "source": [
        "def load_quotes_in_batches(file_path, batch_size=64):\n",
        "    with open(file_path, 'r') as f:\n",
        "        objects = ijson.items(f, 'item')\n",
        "        current_batch = []\n",
        "        for i, obj in enumerate(objects):\n",
        "            current_batch.append(obj['Quote'])\n",
        "            if (i + 1) % batch_size == 0:\n",
        "                yield current_batch\n",
        "                current_batch = []\n",
        "        if current_batch:\n",
        "            yield current_batch\n"
      ]
    },
    {
      "cell_type": "markdown",
      "metadata": {
        "id": "t3oDUPEEGboZ"
      },
      "source": [
        "generator to prepare data in batches"
      ]
    },
    {
      "cell_type": "code",
      "execution_count": null,
      "metadata": {
        "id": "IjKYwK4M_c3E"
      },
      "outputs": [],
      "source": [
        "def data_generator_from_list(quotes_list, tokenizer, seq_length, batch_size):\n",
        "    num_quotes = len(quotes_list)\n",
        "    while True:\n",
        "        for i in range(0, num_quotes, batch_size):\n",
        "            batch = quotes_list[i:i + batch_size]\n",
        "            text = ' '.join(batch)\n",
        "            sequences = tokenizer.texts_to_sequences([text])[0]\n",
        "            X, y = [], []\n",
        "            for j in range(0, len(sequences) - seq_length):\n",
        "                X.append(sequences[j:j + seq_length])\n",
        "                y.append(sequences[j + seq_length])\n",
        "            X = np.array(X)\n",
        "            y = tf.keras.utils.to_categorical(y, num_classes=len(tokenizer.word_index) + 1)\n",
        "            yield X, y"
      ]
    },
    {
      "cell_type": "code",
      "execution_count": null,
      "metadata": {
        "colab": {
          "base_uri": "https://localhost:8080/"
        },
        "id": "P7TO64VgIJBB",
        "outputId": "68c89df8-7806-4ae5-ed4e-4893939a9e08"
      },
      "outputs": [
        {
          "name": "stdout",
          "output_type": "stream",
          "text": [
            "Counting total quotes...\n",
            "Total quotes in dataset: 48391\n"
          ]
        }
      ],
      "source": [
        "print(\"Counting total quotes...\")\n",
        "total_quotes = count_quotes(file_path)\n",
        "print(f\"Total quotes in dataset: {total_quotes}\")"
      ]
    },
    {
      "cell_type": "markdown",
      "metadata": {
        "id": "ZFZoo-PkIMjZ"
      },
      "source": [
        "tokenizer"
      ]
    },
    {
      "cell_type": "code",
      "execution_count": null,
      "metadata": {
        "colab": {
          "base_uri": "https://localhost:8080/"
        },
        "id": "uXcv0GSEIRad",
        "outputId": "1cbf3a9d-1d41-4797-ec12-c7744cd0ff49"
      },
      "outputs": [
        {
          "name": "stdout",
          "output_type": "stream",
          "text": [
            "Total unique characters: 494\n"
          ]
        }
      ],
      "source": [
        "tokenizer = Tokenizer(char_level=True)\n",
        "for batch in load_quotes_in_batches(file_path, batch_size=500):\n",
        "    tokenizer.fit_on_texts(batch)\n",
        "total_chars = len(tokenizer.word_index)\n",
        "print(f\"Total unique characters: {total_chars}\")"
      ]
    },
    {
      "cell_type": "markdown",
      "metadata": {
        "id": "lrbwK1bkIWNd"
      },
      "source": [
        "model setup"
      ]
    },
    {
      "cell_type": "code",
      "execution_count": null,
      "metadata": {
        "colab": {
          "base_uri": "https://localhost:8080/",
          "height": 312
        },
        "id": "t-1SJ3htIWAN",
        "outputId": "a959db3f-bce2-485a-9be7-879fcec4fc67"
      },
      "outputs": [
        {
          "name": "stderr",
          "output_type": "stream",
          "text": [
            "/usr/local/lib/python3.11/dist-packages/keras/src/layers/core/embedding.py:90: UserWarning: Argument `input_length` is deprecated. Just remove it.\n",
            "  warnings.warn(\n"
          ]
        },
        {
          "data": {
            "text/html": [
              "<pre style=\"white-space:pre;overflow-x:auto;line-height:normal;font-family:Menlo,'DejaVu Sans Mono',consolas,'Courier New',monospace\"><span style=\"font-weight: bold\">Model: \"sequential\"</span>\n",
              "</pre>\n"
            ],
            "text/plain": [
              "\u001b[1mModel: \"sequential\"\u001b[0m\n"
            ]
          },
          "metadata": {},
          "output_type": "display_data"
        },
        {
          "data": {
            "text/html": [
              "<pre style=\"white-space:pre;overflow-x:auto;line-height:normal;font-family:Menlo,'DejaVu Sans Mono',consolas,'Courier New',monospace\">┏━━━━━━━━━━━━━━━━━━━━━━━━━━━━━━━━━┳━━━━━━━━━━━━━━━━━━━━━━━━┳━━━━━━━━━━━━━━━┓\n",
              "┃<span style=\"font-weight: bold\"> Layer (type)                    </span>┃<span style=\"font-weight: bold\"> Output Shape           </span>┃<span style=\"font-weight: bold\">       Param # </span>┃\n",
              "┡━━━━━━━━━━━━━━━━━━━━━━━━━━━━━━━━━╇━━━━━━━━━━━━━━━━━━━━━━━━╇━━━━━━━━━━━━━━━┩\n",
              "│ embedding (<span style=\"color: #0087ff; text-decoration-color: #0087ff\">Embedding</span>)           │ ?                      │   <span style=\"color: #00af00; text-decoration-color: #00af00\">0</span> (unbuilt) │\n",
              "├─────────────────────────────────┼────────────────────────┼───────────────┤\n",
              "│ lstm (<span style=\"color: #0087ff; text-decoration-color: #0087ff\">LSTM</span>)                     │ ?                      │   <span style=\"color: #00af00; text-decoration-color: #00af00\">0</span> (unbuilt) │\n",
              "├─────────────────────────────────┼────────────────────────┼───────────────┤\n",
              "│ dropout (<span style=\"color: #0087ff; text-decoration-color: #0087ff\">Dropout</span>)               │ ?                      │             <span style=\"color: #00af00; text-decoration-color: #00af00\">0</span> │\n",
              "├─────────────────────────────────┼────────────────────────┼───────────────┤\n",
              "│ dense (<span style=\"color: #0087ff; text-decoration-color: #0087ff\">Dense</span>)                   │ ?                      │   <span style=\"color: #00af00; text-decoration-color: #00af00\">0</span> (unbuilt) │\n",
              "└─────────────────────────────────┴────────────────────────┴───────────────┘\n",
              "</pre>\n"
            ],
            "text/plain": [
              "┏━━━━━━━━━━━━━━━━━━━━━━━━━━━━━━━━━┳━━━━━━━━━━━━━━━━━━━━━━━━┳━━━━━━━━━━━━━━━┓\n",
              "┃\u001b[1m \u001b[0m\u001b[1mLayer (type)                   \u001b[0m\u001b[1m \u001b[0m┃\u001b[1m \u001b[0m\u001b[1mOutput Shape          \u001b[0m\u001b[1m \u001b[0m┃\u001b[1m \u001b[0m\u001b[1m      Param #\u001b[0m\u001b[1m \u001b[0m┃\n",
              "┡━━━━━━━━━━━━━━━━━━━━━━━━━━━━━━━━━╇━━━━━━━━━━━━━━━━━━━━━━━━╇━━━━━━━━━━━━━━━┩\n",
              "│ embedding (\u001b[38;5;33mEmbedding\u001b[0m)           │ ?                      │   \u001b[38;5;34m0\u001b[0m (unbuilt) │\n",
              "├─────────────────────────────────┼────────────────────────┼───────────────┤\n",
              "│ lstm (\u001b[38;5;33mLSTM\u001b[0m)                     │ ?                      │   \u001b[38;5;34m0\u001b[0m (unbuilt) │\n",
              "├─────────────────────────────────┼────────────────────────┼───────────────┤\n",
              "│ dropout (\u001b[38;5;33mDropout\u001b[0m)               │ ?                      │             \u001b[38;5;34m0\u001b[0m │\n",
              "├─────────────────────────────────┼────────────────────────┼───────────────┤\n",
              "│ dense (\u001b[38;5;33mDense\u001b[0m)                   │ ?                      │   \u001b[38;5;34m0\u001b[0m (unbuilt) │\n",
              "└─────────────────────────────────┴────────────────────────┴───────────────┘\n"
            ]
          },
          "metadata": {},
          "output_type": "display_data"
        },
        {
          "data": {
            "text/html": [
              "<pre style=\"white-space:pre;overflow-x:auto;line-height:normal;font-family:Menlo,'DejaVu Sans Mono',consolas,'Courier New',monospace\"><span style=\"font-weight: bold\"> Total params: </span><span style=\"color: #00af00; text-decoration-color: #00af00\">0</span> (0.00 B)\n",
              "</pre>\n"
            ],
            "text/plain": [
              "\u001b[1m Total params: \u001b[0m\u001b[38;5;34m0\u001b[0m (0.00 B)\n"
            ]
          },
          "metadata": {},
          "output_type": "display_data"
        },
        {
          "data": {
            "text/html": [
              "<pre style=\"white-space:pre;overflow-x:auto;line-height:normal;font-family:Menlo,'DejaVu Sans Mono',consolas,'Courier New',monospace\"><span style=\"font-weight: bold\"> Trainable params: </span><span style=\"color: #00af00; text-decoration-color: #00af00\">0</span> (0.00 B)\n",
              "</pre>\n"
            ],
            "text/plain": [
              "\u001b[1m Trainable params: \u001b[0m\u001b[38;5;34m0\u001b[0m (0.00 B)\n"
            ]
          },
          "metadata": {},
          "output_type": "display_data"
        },
        {
          "data": {
            "text/html": [
              "<pre style=\"white-space:pre;overflow-x:auto;line-height:normal;font-family:Menlo,'DejaVu Sans Mono',consolas,'Courier New',monospace\"><span style=\"font-weight: bold\"> Non-trainable params: </span><span style=\"color: #00af00; text-decoration-color: #00af00\">0</span> (0.00 B)\n",
              "</pre>\n"
            ],
            "text/plain": [
              "\u001b[1m Non-trainable params: \u001b[0m\u001b[38;5;34m0\u001b[0m (0.00 B)\n"
            ]
          },
          "metadata": {},
          "output_type": "display_data"
        }
      ],
      "source": [
        "seq_length = 40\n",
        "model = Sequential([\n",
        "    Embedding(input_dim=total_chars + 1, output_dim=32, input_length=seq_length),\n",
        "    LSTM(128, return_sequences=False),\n",
        "    Dropout(0.2),\n",
        "    Dense(total_chars + 1, activation='softmax')\n",
        "])\n",
        "model.compile(loss='categorical_crossentropy', optimizer='adam', metrics=['accuracy'])\n",
        "model.summary()\n"
      ]
    },
    {
      "cell_type": "markdown",
      "metadata": {
        "id": "9D5spfxo9x5Q"
      },
      "source": [
        "generator prep"
      ]
    },
    {
      "cell_type": "code",
      "execution_count": null,
      "metadata": {
        "colab": {
          "base_uri": "https://localhost:8080/"
        },
        "id": "bLhu7lYBDjPc",
        "outputId": "e5aa01e3-5d57-4667-e861-6c27ba651fcf"
      },
      "outputs": [
        {
          "output_type": "stream",
          "name": "stdout",
          "text": [
            "Starting training...\n",
            "Epoch 1/5\n",
            "\u001b[1m756/756\u001b[0m \u001b[32m━━━━━━━━━━━━━━━━━━━━\u001b[0m\u001b[37m\u001b[0m \u001b[1m4342s\u001b[0m 6s/step - accuracy: 0.4549 - loss: 1.8522 - val_accuracy: 0.4915 - val_loss: 1.7180\n",
            "Epoch 2/5\n",
            "\u001b[1m756/756\u001b[0m \u001b[32m━━━━━━━━━━━━━━━━━━━━\u001b[0m\u001b[37m\u001b[0m \u001b[1m4271s\u001b[0m 6s/step - accuracy: 0.4747 - loss: 1.7819 - val_accuracy: 0.5085 - val_loss: 1.6594\n",
            "Epoch 3/5\n",
            "\u001b[1m756/756\u001b[0m \u001b[32m━━━━━━━━━━━━━━━━━━━━\u001b[0m\u001b[37m\u001b[0m \u001b[1m4296s\u001b[0m 6s/step - accuracy: 0.4887 - loss: 1.7318 - val_accuracy: 0.5195 - val_loss: 1.6177\n",
            "Epoch 4/5\n",
            "\u001b[1m756/756\u001b[0m \u001b[32m━━━━━━━━━━━━━━━━━━━━\u001b[0m\u001b[37m\u001b[0m \u001b[1m4340s\u001b[0m 6s/step - accuracy: 0.4997 - loss: 1.6896 - val_accuracy: 0.5289 - val_loss: 1.5846\n",
            "Epoch 5/5\n",
            "\u001b[1m756/756\u001b[0m \u001b[32m━━━━━━━━━━━━━━━━━━━━\u001b[0m\u001b[37m\u001b[0m \u001b[1m4288s\u001b[0m 6s/step - accuracy: 0.5077 - loss: 1.6584 - val_accuracy: 0.5367 - val_loss: 1.5608\n"
          ]
        }
      ],
      "source": [
        "batch_size = 64\n",
        "steps_per_epoch = count_quotes(file_path) // batch_size\n",
        "\n",
        "# Load all quotes into a list\n",
        "all_quotes = []\n",
        "for batch in load_quotes_in_batches(file_path, batch_size=250):\n",
        "    all_quotes.extend(batch)\n",
        "\n",
        "# Split the data into training and validation sets\n",
        "train_quotes, val_quotes = train_test_split(all_quotes, test_size=0.2, random_state=42)\n",
        "\n",
        "train_generator = data_generator_from_list(train_quotes, tokenizer, seq_length, batch_size)\n",
        "val_generator = data_generator_from_list(val_quotes, tokenizer, seq_length, batch_size)\n",
        "steps_per_epoch_val = len(val_quotes) // batch_size\n",
        "\n",
        "print(\"Starting training...\")\n",
        "history = model.fit(\n",
        "    train_generator,\n",
        "    steps_per_epoch=steps_per_epoch,\n",
        "    epochs=5,\n",
        "    validation_data=val_generator,\n",
        "    validation_steps=steps_per_epoch_val\n",
        ")\n",
        "\n"
      ]
    },
    {
      "cell_type": "markdown",
      "metadata": {
        "id": "ZJuKkUxWJ1D-"
      },
      "source": [
        "saving the model"
      ]
    },
    {
      "cell_type": "code",
      "execution_count": 18,
      "metadata": {
        "id": "DWNTBJeWJ2qs",
        "colab": {
          "base_uri": "https://localhost:8080/"
        },
        "outputId": "1c448818-9f21-43f2-9034-26af7ee97ab9"
      },
      "outputs": [
        {
          "output_type": "stream",
          "name": "stderr",
          "text": [
            "WARNING:absl:You are saving your model as an HDF5 file via `model.save()` or `keras.saving.save_model(model)`. This file format is considered legacy. We recommend using instead the native Keras format, e.g. `model.save('my_model.keras')` or `keras.saving.save_model(model, 'my_model.keras')`. \n"
          ]
        },
        {
          "output_type": "stream",
          "name": "stdout",
          "text": [
            "Model saved successfully!\n"
          ]
        }
      ],
      "source": [
        "model.save(\"lstm_quotes_model.h5\")\n",
        "print(\"Model saved successfully!\")"
      ]
    },
    {
      "cell_type": "markdown",
      "metadata": {
        "id": "JpQn8SUVKA6t"
      },
      "source": [
        "evaluation of the model"
      ]
    },
    {
      "cell_type": "code",
      "execution_count": 19,
      "metadata": {
        "id": "XfYFjwaTJ_iC",
        "colab": {
          "base_uri": "https://localhost:8080/"
        },
        "outputId": "3e56c954-b619-44b0-f6e9-d8e022a02b5d"
      },
      "outputs": [
        {
          "output_type": "stream",
          "name": "stdout",
          "text": [
            "Evaluating the model on the validation set...\n",
            "\u001b[1m151/151\u001b[0m \u001b[32m━━━━━━━━━━━━━━━━━━━━\u001b[0m\u001b[37m\u001b[0m \u001b[1m319s\u001b[0m 2s/step - accuracy: 0.5370 - loss: 1.5602\n",
            "Validation Loss: 1.5610, Validation Accuracy: 0.5367\n"
          ]
        }
      ],
      "source": [
        "print(\"Evaluating the model on the validation set...\")\n",
        "loss, accuracy = model.evaluate(val_generator, steps=steps_per_epoch_val)\n",
        "print(f\"Validation Loss: {loss:.4f}, Validation Accuracy: {accuracy:.4f}\")"
      ]
    },
    {
      "cell_type": "markdown",
      "metadata": {
        "id": "mUUIJivTKJ3Z"
      },
      "source": [
        "visualizing"
      ]
    },
    {
      "cell_type": "code",
      "execution_count": 20,
      "metadata": {
        "id": "Flsxom_XKLOq",
        "colab": {
          "base_uri": "https://localhost:8080/",
          "height": 503
        },
        "outputId": "3d38d31f-c0c4-4b52-b4ab-e169272543d0"
      },
      "outputs": [
        {
          "output_type": "stream",
          "name": "stdout",
          "text": [
            "Visualizing training progress...\n"
          ]
        },
        {
          "output_type": "display_data",
          "data": {
            "text/plain": [
              "<Figure size 1200x600 with 1 Axes>"
            ],
            "image/png": "[encoded data removed]"
          },
          "metadata": {}
        }
      ],
      "source": [
        "def plot_training_history(history):\n",
        "    plt.figure(figsize=(12, 6))\n",
        "    plt.plot(history.history['loss'], label='Loss', color='blue')\n",
        "    plt.plot(history.history['accuracy'], label='Accuracy', color='green')\n",
        "    plt.title('Training Progress')\n",
        "    plt.xlabel('Epochs')\n",
        "    plt.ylabel('Metrics')\n",
        "    plt.legend()\n",
        "    plt.show()\n",
        "\n",
        "print(\"Visualizing training progress...\")\n",
        "plot_training_history(history)"
      ]
    },
    {
      "cell_type": "markdown",
      "metadata": {
        "id": "aRVNvYx-KR3Z"
      },
      "source": [
        "finally text generation"
      ]
    },
    {
      "cell_type": "code",
      "execution_count": 22,
      "metadata": {
        "id": "ftSH0tl3KVKs",
        "colab": {
          "base_uri": "https://localhost:8080/"
        },
        "outputId": "9098ff25-dd43-4861-e0f8-1feecf733d27"
      },
      "outputs": [
        {
          "output_type": "stream",
          "name": "stderr",
          "text": [
            "WARNING:absl:Compiled the loaded model, but the compiled metrics have yet to be built. `model.compile_metrics` will be empty until you train or evaluate the model.\n"
          ]
        },
        {
          "output_type": "stream",
          "name": "stdout",
          "text": [
            "Generating text...\n",
            "Generated text:\n",
            "Life is the start of the start of the start of the start of the start of the start of the start of the start of the start of the start of the start of the start of the start of the start of the start of the \n"
          ]
        }
      ],
      "source": [
        "import numpy as np\n",
        "from tensorflow.keras.models import load_model\n",
        "from tensorflow.keras.preprocessing.sequence import pad_sequences\n",
        "\n",
        "def generate_text(model, tokenizer, seed_text, seq_length, num_chars):\n",
        "    \"\"\"Generate text using the trained LSTM model.\"\"\"\n",
        "    generated_text = seed_text\n",
        "    for _ in range(num_chars):\n",
        "        # Tokenize the input text\n",
        "        token_list = tokenizer.texts_to_sequences([generated_text])[0]\n",
        "        token_list = pad_sequences([token_list], maxlen=seq_length, padding='pre')\n",
        "\n",
        "        # Predict the next character\n",
        "        predicted_probs = model.predict(token_list, verbose=0)\n",
        "        predicted_index = np.argmax(predicted_probs, axis=-1)[0]\n",
        "\n",
        "        # Convert the index back to the character\n",
        "        output_char = tokenizer.index_word.get(predicted_index, '')\n",
        "        if output_char == '':  # Stop if no valid character is found\n",
        "            break\n",
        "\n",
        "        # Append the predicted character to the text\n",
        "        generated_text += output_char\n",
        "\n",
        "    return generated_text\n",
        "\n",
        "# Load the trained model\n",
        "model = load_model(\"lstm_quotes_model.h5\")\n",
        "\n",
        "# Generate text\n",
        "seed_text = \"Life is\"\n",
        "seq_length = 40  # Same as the training sequence length\n",
        "num_chars = 200  # Number of characters to generate\n",
        "\n",
        "print(\"Generating text...\")\n",
        "generated_text = generate_text(model, tokenizer, seed_text, seq_length, num_chars)\n",
        "print(\"Generated text:\")\n",
        "print(generated_text)\n"
      ]
    }
  ],
  "metadata": {
    "colab": {
      "provenance": []
    },
    "kernelspec": {
      "display_name": "Python 3",
      "name": "python3"
    },
    "language_info": {
      "name": "python"
    }
  },
  "nbformat": 4,
  "nbformat_minor": 0
}